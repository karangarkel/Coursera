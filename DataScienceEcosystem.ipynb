{
  "nbformat": 4,
  "nbformat_minor": 0,
  "metadata": {
    "colab": {
      "provenance": []
    },
    "kernelspec": {
      "name": "python3",
      "display_name": "Python 3"
    },
    "language_info": {
      "name": "python"
    }
  },
  "cells": [
    {
      "cell_type": "markdown",
      "source": [
        "#Data Science Tools and Ecosystem"
      ],
      "metadata": {
        "id": "wVwmOx9FhTao"
      }
    },
    {
      "cell_type": "markdown",
      "source": [
        "In this notebook, Data Science Tools and Ecosystem are summarized."
      ],
      "metadata": {
        "id": "DVwZBpMQh2R-"
      }
    },
    {
      "cell_type": "markdown",
      "source": [
        "Some of the popular languages that Data Scientists use are:\n",
        "\n",
        "\n",
        "1.   Python\n",
        "2.   R\n",
        "3.   Scala\n",
        "\n",
        "\n",
        "\n",
        "\n",
        "\n",
        "\n"
      ],
      "metadata": {
        "id": "76Lt7_4EiG3c"
      }
    },
    {
      "cell_type": "markdown",
      "source": [
        "Some of the commonly used libraries used by Data Scientists include:\n",
        "\n",
        "\n",
        "1.   Scikit-Learn\n",
        "2.   ggplot\n",
        "3.   TensorFlow\n",
        "\n"
      ],
      "metadata": {
        "id": "ZbSfKxZhiloZ"
      }
    },
    {
      "cell_type": "markdown",
      "source": [
        "| Data Science Tools\n",
        "|----------\n",
        "| VSCode    \n",
        "| Jupyter Notebooks\n",
        "| Rstudio   \n"
      ],
      "metadata": {
        "id": "8OisC-lpi-dV"
      }
    },
    {
      "cell_type": "markdown",
      "source": [
        "Below are a few examples of evaluating arithmetic expressions in Python"
      ],
      "metadata": {
        "id": "iSzWIW79kFVg"
      }
    },
    {
      "cell_type": "code",
      "source": [
        "# This a simple arithmetic expression to mutiply then add integers\n",
        "(3*4)+5"
      ],
      "metadata": {
        "colab": {
          "base_uri": "https://localhost:8080/"
        },
        "id": "XrE73lwihXlq",
        "outputId": "256d78d6-baaf-4c5a-f21a-2b9fb1e5a549"
      },
      "execution_count": 1,
      "outputs": [
        {
          "output_type": "execute_result",
          "data": {
            "text/plain": [
              "17"
            ]
          },
          "metadata": {},
          "execution_count": 1
        }
      ]
    },
    {
      "cell_type": "code",
      "source": [
        "# This will convert 200 minutes to hours by diving by 60\n",
        "200/60"
      ],
      "metadata": {
        "colab": {
          "base_uri": "https://localhost:8080/"
        },
        "id": "NZ3l9IT8kaVe",
        "outputId": "8178771e-cd1b-4298-bc9c-73b94df0a6fa"
      },
      "execution_count": 2,
      "outputs": [
        {
          "output_type": "execute_result",
          "data": {
            "text/plain": [
              "3.3333333333333335"
            ]
          },
          "metadata": {},
          "execution_count": 2
        }
      ]
    },
    {
      "cell_type": "markdown",
      "source": [
        "**Objectives:**\n",
        "\n",
        "*   List popular languages for Data Science\n",
        "*   List commonly used libraries by Data Scientists\n",
        "*   List some open source tools used by Data Scientists\n",
        "\n"
      ],
      "metadata": {
        "id": "wg2T6d2Pk1PB"
      }
    },
    {
      "cell_type": "markdown",
      "source": [
        "##Author\n",
        "Karan Singh Garkel"
      ],
      "metadata": {
        "id": "Pf4UVkfJlZEv"
      }
    }
  ]
}